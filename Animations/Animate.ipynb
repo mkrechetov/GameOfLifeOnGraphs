{
 "cells": [
  {
   "cell_type": "code",
   "execution_count": 5,
   "id": "5e094d92",
   "metadata": {},
   "outputs": [],
   "source": [
    "import numpy as np\n",
    "import networkx as nx\n",
    "import matplotlib.pyplot as plt\n",
    "import matplotlib.animation as animation\n",
    "from matplotlib.animation import FuncAnimation, PillowWriter "
   ]
  },
  {
   "cell_type": "code",
   "execution_count": 6,
   "id": "c8c4b1d3",
   "metadata": {},
   "outputs": [],
   "source": [
    "def ax_pattern(G, A, D, t, ax):\n",
    "    ax.clear()\n",
    "    ax.axis('off')\n",
    "    assert set(G.nodes) == set(A).union(set(D))\n",
    "    pos = nx.kamada_kawai_layout(G)\n",
    "    nx.draw_networkx_nodes(G, pos, nodelist=A, node_color=\"green\", ax=ax)\n",
    "    nx.draw_networkx_nodes(G, pos, nodelist=D, node_color=\"black\", ax=ax)\n",
    "    nx.draw_networkx_edges(G, pos, width=1.0, alpha=0.5)\n",
    "    \n",
    "    ax.plot([], [], ' ', label=\"t = {}\".format(t))\n",
    "    ax.legend()\n",
    "\n",
    "def life_step(G, A, D, alive_rule=1, dead_rule=1, rep_rule=1):\n",
    "    n = len(G.nodes())\n",
    "    alive = A.copy()\n",
    "    dead = list(set(range(n)).difference(set(alive)))\n",
    "\n",
    "    if len(alive) == 0:\n",
    "        return alive,dead\n",
    "    else:\n",
    "        new_alive = []\n",
    "        new_dead = []\n",
    "\n",
    "        for node in range(n):\n",
    "            neighbors_alive = sum([int(node in G[i].keys()) for i in alive if i != node])\n",
    "            neighbors_dead = sum([int(node in G[i].keys()) for i in dead if i != node])\n",
    "            \n",
    "            if node in alive:\n",
    "                if (neighbors_alive >= alive_rule) and (neighbors_dead >= dead_rule):\n",
    "                    new_alive.append(node)\n",
    "                else:\n",
    "                    new_dead.append(node)\n",
    "            elif (neighbors_alive == rep_rule):\n",
    "                new_alive.append(node)\n",
    "            else:\n",
    "                new_dead.append(node)\n",
    "        \n",
    "        return new_alive, new_dead\n",
    "\n",
    "def life_gif(G, A, max_iter=None, filename='life.gif'):\n",
    "    if max_iter is None:\n",
    "        max_iter = len(G.nodes())\n",
    "        \n",
    "    A = A.copy()\n",
    "    D = list(set(G.nodes()).difference(set(A)))\n",
    "\n",
    "    fig, ax = plt.subplots()\n",
    "\n",
    "    def animate(i, lst, ax):\n",
    "        G = lst[0]\n",
    "        A = lst[1]\n",
    "        D = lst[2]\n",
    "\n",
    "        if i == 0:\n",
    "            ax_pattern(G, A, D, i, ax)\n",
    "        elif len(A) == 0:\n",
    "            pass\n",
    "        else:\n",
    "            A, D = life_step(G, A, D)\n",
    "\n",
    "            lst[1] = A\n",
    "            lst[2] = D\n",
    "            ax_pattern(G, A, D, i, ax)\n",
    "\n",
    "    life_animation = animation.FuncAnimation(fig,\n",
    "                                             animate,\n",
    "                                             fargs=([G, A, D], ax),\n",
    "                                             save_count=max_iter,\n",
    "                                             interval=1000,\n",
    "                                             repeat=False)\n",
    "\n",
    "    \n",
    "    life_animation.save(filename,\n",
    "                        writer='imagemagick',\n",
    "                        fps=1,\n",
    "                        dpi=300)"
   ]
  },
  {
   "cell_type": "code",
   "execution_count": 7,
   "id": "e709a9c9",
   "metadata": {},
   "outputs": [],
   "source": [
    "#G = nx.generators.small.petersen_graph()\n",
    "#nx.draw(G, with_labels=True)"
   ]
  },
  {
   "cell_type": "code",
   "execution_count": 9,
   "id": "2a7a9aa0",
   "metadata": {},
   "outputs": [
    {
     "name": "stderr",
     "output_type": "stream",
     "text": [
      "MovieWriter imagemagick unavailable; using Pillow instead.\n"
     ]
    },
    {
     "data": {
      "image/png": "[encoded data removed]",
      "text/plain": [
       "<Figure size 432x288 with 1 Axes>"
      ]
     },
     "metadata": {},
     "output_type": "display_data"
    }
   ],
   "source": [
    "G = nx.complete_graph(5)\n",
    "life_gif(G, [0], max_iter=20)"
   ]
  },
  {
   "cell_type": "code",
   "execution_count": null,
   "id": "b49261a9",
   "metadata": {},
   "outputs": [],
   "source": []
  }
 ],
 "metadata": {
  "kernelspec": {
   "display_name": "Python 3 (ipykernel)",
   "language": "python",
   "name": "python3"
  },
  "language_info": {
   "codemirror_mode": {
    "name": "ipython",
    "version": 3
   },
   "file_extension": ".py",
   "mimetype": "text/x-python",
   "name": "python",
   "nbconvert_exporter": "python",
   "pygments_lexer": "ipython3",
   "version": "3.7.7"
  }
 },
 "nbformat": 4,
 "nbformat_minor": 5
}
